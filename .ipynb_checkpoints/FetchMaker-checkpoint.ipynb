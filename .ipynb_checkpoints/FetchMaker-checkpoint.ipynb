{
 "cells": [
  {
   "cell_type": "markdown",
   "id": "9f63f2f0",
   "metadata": {},
   "source": [
    "# FetchMaker"
   ]
  },
  {
   "cell_type": "code",
   "execution_count": 2,
   "id": "a97a827d",
   "metadata": {},
   "outputs": [],
   "source": [
    "# Import libraries\n",
    "import numpy as np\n",
    "import pandas as pd\n",
    "\n",
    "# Import data\n",
    "dogs = pd.read_csv('dog_data.csv')\n",
    "\n",
    "# Subset to just whippets, terriers, and pitbulls\n",
    "dogs_wtp = dogs[dogs.breed.isin(['whippet', 'terrier', 'pitbull'])]\n",
    "\n",
    "# Subset to just poodles and shihtzus\n",
    "dogs_ps = dogs[dogs.breed.isin(['poodle', 'shihtzu'])]\n"
   ]
  },
  {
   "cell_type": "code",
   "execution_count": 3,
   "id": "5cf89a82",
   "metadata": {},
   "outputs": [
    {
     "data": {
      "text/html": [
       "<div>\n",
       "<style scoped>\n",
       "    .dataframe tbody tr th:only-of-type {\n",
       "        vertical-align: middle;\n",
       "    }\n",
       "\n",
       "    .dataframe tbody tr th {\n",
       "        vertical-align: top;\n",
       "    }\n",
       "\n",
       "    .dataframe thead th {\n",
       "        text-align: right;\n",
       "    }\n",
       "</style>\n",
       "<table border=\"1\" class=\"dataframe\">\n",
       "  <thead>\n",
       "    <tr style=\"text-align: right;\">\n",
       "      <th></th>\n",
       "      <th>is_rescue</th>\n",
       "      <th>weight</th>\n",
       "      <th>tail_length</th>\n",
       "      <th>age</th>\n",
       "      <th>color</th>\n",
       "      <th>likes_children</th>\n",
       "      <th>is_hypoallergenic</th>\n",
       "      <th>name</th>\n",
       "      <th>breed</th>\n",
       "    </tr>\n",
       "  </thead>\n",
       "  <tbody>\n",
       "    <tr>\n",
       "      <th>0</th>\n",
       "      <td>0</td>\n",
       "      <td>6</td>\n",
       "      <td>2.25</td>\n",
       "      <td>2</td>\n",
       "      <td>black</td>\n",
       "      <td>1</td>\n",
       "      <td>0</td>\n",
       "      <td>Huey</td>\n",
       "      <td>chihuahua</td>\n",
       "    </tr>\n",
       "    <tr>\n",
       "      <th>1</th>\n",
       "      <td>0</td>\n",
       "      <td>4</td>\n",
       "      <td>5.36</td>\n",
       "      <td>4</td>\n",
       "      <td>black</td>\n",
       "      <td>0</td>\n",
       "      <td>0</td>\n",
       "      <td>Cherish</td>\n",
       "      <td>chihuahua</td>\n",
       "    </tr>\n",
       "    <tr>\n",
       "      <th>2</th>\n",
       "      <td>0</td>\n",
       "      <td>7</td>\n",
       "      <td>3.63</td>\n",
       "      <td>3</td>\n",
       "      <td>black</td>\n",
       "      <td>0</td>\n",
       "      <td>1</td>\n",
       "      <td>Becka</td>\n",
       "      <td>chihuahua</td>\n",
       "    </tr>\n",
       "    <tr>\n",
       "      <th>3</th>\n",
       "      <td>0</td>\n",
       "      <td>5</td>\n",
       "      <td>0.19</td>\n",
       "      <td>2</td>\n",
       "      <td>black</td>\n",
       "      <td>0</td>\n",
       "      <td>0</td>\n",
       "      <td>Addie</td>\n",
       "      <td>chihuahua</td>\n",
       "    </tr>\n",
       "    <tr>\n",
       "      <th>4</th>\n",
       "      <td>0</td>\n",
       "      <td>5</td>\n",
       "      <td>0.37</td>\n",
       "      <td>1</td>\n",
       "      <td>black</td>\n",
       "      <td>1</td>\n",
       "      <td>1</td>\n",
       "      <td>Beverlee</td>\n",
       "      <td>chihuahua</td>\n",
       "    </tr>\n",
       "  </tbody>\n",
       "</table>\n",
       "</div>"
      ],
      "text/plain": [
       "   is_rescue  weight  tail_length  age  color  likes_children  \\\n",
       "0          0       6         2.25    2  black               1   \n",
       "1          0       4         5.36    4  black               0   \n",
       "2          0       7         3.63    3  black               0   \n",
       "3          0       5         0.19    2  black               0   \n",
       "4          0       5         0.37    1  black               1   \n",
       "\n",
       "   is_hypoallergenic      name      breed  \n",
       "0                  0      Huey  chihuahua  \n",
       "1                  0   Cherish  chihuahua  \n",
       "2                  1     Becka  chihuahua  \n",
       "3                  0     Addie  chihuahua  \n",
       "4                  1  Beverlee  chihuahua  "
      ]
     },
     "execution_count": 3,
     "metadata": {},
     "output_type": "execute_result"
    }
   ],
   "source": [
    "# Inspecting first five rows\n",
    "dogs.head()"
   ]
  },
  {
   "cell_type": "markdown",
   "id": "67385cc9",
   "metadata": {},
   "source": [
    "store **is_rescue** values for whippet"
   ]
  },
  {
   "cell_type": "code",
   "execution_count": 4,
   "id": "a327b01e",
   "metadata": {},
   "outputs": [],
   "source": [
    "whippet_rescue = dogs.is_rescue[dogs['breed'] == 'whippet']"
   ]
  },
  {
   "cell_type": "markdown",
   "id": "8b6ee70b",
   "metadata": {},
   "source": [
    "How many whippets are **rescues**"
   ]
  },
  {
   "cell_type": "code",
   "execution_count": 5,
   "id": "08c6f2a4",
   "metadata": {},
   "outputs": [
    {
     "name": "stdout",
     "output_type": "stream",
     "text": [
      "6\n"
     ]
    }
   ],
   "source": [
    "num_whippet_rescues = np.sum(whippet_rescue == 1)\n",
    "print(num_whippet_rescues)"
   ]
  },
  {
   "cell_type": "markdown",
   "id": "b21460a2",
   "metadata": {},
   "source": [
    "Number of whippets in this sample of data in total"
   ]
  },
  {
   "cell_type": "code",
   "execution_count": 6,
   "id": "ba3d29a4",
   "metadata": {},
   "outputs": [
    {
     "name": "stdout",
     "output_type": "stream",
     "text": [
      "100\n"
     ]
    }
   ],
   "source": [
    "num_whippets = len(whippet_rescue)\n",
    "print(num_whippets)"
   ]
  },
  {
   "cell_type": "markdown",
   "id": "88ce5d65",
   "metadata": {},
   "source": [
    "## Binomial Test"
   ]
  },
  {
   "cell_type": "code",
   "execution_count": 7,
   "id": "652386b7",
   "metadata": {
    "scrolled": false
   },
   "outputs": [
    {
     "name": "stdout",
     "output_type": "stream",
     "text": [
      "1.2676506002282013e-70\n"
     ]
    }
   ],
   "source": [
    "from scipy.stats import binom_test\n",
    "pval = binom_test(0.6,100,p=0.8)\n",
    "print(pval)"
   ]
  },
  {
   "cell_type": "markdown",
   "id": "db35273f",
   "metadata": {},
   "source": [
    "pval is less than 0.05. So there are more or less than 8% of whippers that are rescues"
   ]
  },
  {
   "cell_type": "markdown",
   "id": "7780ceda",
   "metadata": {},
   "source": [
    "## Assign weight of whippets, terriers and pitbulls separate variables"
   ]
  },
  {
   "cell_type": "code",
   "execution_count": 10,
   "id": "cded3e6c",
   "metadata": {},
   "outputs": [],
   "source": [
    "wt_whippets = dogs.weight[dogs.breed == 'whippet']\n",
    "wt_terriers = dogs.weight[dogs.breed == 'terrier']\n",
    "wt_pitbulls = dogs.weight[dogs.breed == 'pitbull']"
   ]
  },
  {
   "cell_type": "markdown",
   "id": "eaf34e66",
   "metadata": {},
   "source": [
    "## Anova test"
   ]
  },
  {
   "cell_type": "code",
   "execution_count": 12,
   "id": "b21267d4",
   "metadata": {},
   "outputs": [
    {
     "name": "stdout",
     "output_type": "stream",
     "text": [
      "3.276415588274815e-17\n"
     ]
    }
   ],
   "source": [
    "from scipy.stats import f_oneway\n",
    "fstat,pval = f_oneway(wt_whippets,wt_terriers,wt_pitbulls)\n",
    "print(pval)"
   ]
  },
  {
   "cell_type": "markdown",
   "id": "bf61a903",
   "metadata": {},
   "source": [
    "Pval above is very significant causing us to drop the null hypothesis, We are required to perform a **Tukey Range Test** to determine which three dog weight pair are significantly different"
   ]
  },
  {
   "cell_type": "markdown",
   "id": "3e714ab4",
   "metadata": {},
   "source": [
    "## Tukey's Range Test"
   ]
  },
  {
   "cell_type": "code",
   "execution_count": 15,
   "id": "97f4b104",
   "metadata": {},
   "outputs": [
    {
     "name": "stdout",
     "output_type": "stream",
     "text": [
      " Multiple Comparison of Means - Tukey HSD, FWER=0.05 \n",
      "=====================================================\n",
      " group1  group2 meandiff p-adj   lower  upper  reject\n",
      "-----------------------------------------------------\n",
      "pitbull terrier   -13.24  0.001 -16.728 -9.752   True\n",
      "pitbull whippet    -3.34 0.0639  -6.828  0.148  False\n",
      "terrier whippet      9.9  0.001   6.412 13.388   True\n",
      "-----------------------------------------------------\n"
     ]
    }
   ],
   "source": [
    "from statsmodels.stats.multicomp import pairwise_tukeyhsd\n",
    "tukey_results = pairwise_tukeyhsd(dogs_wtp.weight,dogs_wtp.breed, 0.05)\n",
    "print(tukey_results)"
   ]
  },
  {
   "cell_type": "markdown",
   "id": "f029edbb",
   "metadata": {},
   "source": [
    "## Contingency table for 'poodles' and 'shihtzu'"
   ]
  },
  {
   "cell_type": "code",
   "execution_count": 18,
   "id": "7000e29b",
   "metadata": {
    "scrolled": true
   },
   "outputs": [
    {
     "name": "stdout",
     "output_type": "stream",
     "text": [
      "color    black  brown  gold  grey  white\n",
      "breed                                   \n",
      "poodle      17     13     8    52     10\n",
      "shihtzu     10     36     6    41      7\n"
     ]
    }
   ],
   "source": [
    "Xtab = pd.crosstab(dogs_ps.breed,dogs_ps.color)\n",
    "print(Xtab)"
   ]
  },
  {
   "cell_type": "markdown",
   "id": "a546bda7",
   "metadata": {},
   "source": [
    "## Chi-Square test\n"
   ]
  },
  {
   "cell_type": "code",
   "execution_count": 20,
   "id": "a7162ace",
   "metadata": {
    "scrolled": true
   },
   "outputs": [
    {
     "name": "stdout",
     "output_type": "stream",
     "text": [
      "0.005302408293244597\n"
     ]
    }
   ],
   "source": [
    "from scipy.stats import chi2_contingency\n",
    "chi2,pval,dof,expected = chi2_contingency(Xtab)\n",
    "print(pval)"
   ]
  },
  {
   "cell_type": "code",
   "execution_count": null,
   "id": "c29872e0",
   "metadata": {},
   "outputs": [],
   "source": []
  }
 ],
 "metadata": {
  "kernelspec": {
   "display_name": "Python 3",
   "language": "python",
   "name": "python3"
  },
  "language_info": {
   "codemirror_mode": {
    "name": "ipython",
    "version": 3
   },
   "file_extension": ".py",
   "mimetype": "text/x-python",
   "name": "python",
   "nbconvert_exporter": "python",
   "pygments_lexer": "ipython3",
   "version": "3.8.8"
  }
 },
 "nbformat": 4,
 "nbformat_minor": 5
}
